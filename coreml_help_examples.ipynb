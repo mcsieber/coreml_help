{
 "cells": [
  {
   "cell_type": "markdown",
   "metadata": {},
   "source": [
    "# coreml_help - examples of use\n",
    "\n",
    "This notebook shows examples of helper functions to facilitate working with\n",
    "CoreML and ONNX and converting from one to the other.\n",
    "\n",
    "I wrote these as a learning exercise. Feedback welcome.\n",
    "Most of this is based on the work of others,  but there can be no question that any\n",
    "bugs, errors, misstatements, and, especially, inept code constructs, are entirely mine.\n",
    "\n",
    ">If you want **real** help with CoreML, I highly recommend **Matthijs Holleman's**\n",
    " *“Core ML Survival Guide.”*. Informative and well-written.\n",
    " Easy to read, as much as books on this subject can be.\n",
    "  "
   ]
  },
  {
   "cell_type": "markdown",
   "metadata": {},
   "source": [
    "**The next cell** is setup for what follows. You should execute it, but you can ignore its details."
   ]
  },
  {
   "cell_type": "code",
   "execution_count": 1,
   "metadata": {},
   "outputs": [
    {
     "name": "stdout",
     "output_type": "stream",
     "text": [
      "name 'defaults' is not defined\n",
      "\n",
      "project_name    = cml_help_example\n",
      "model_name      = MobileNet\n",
      "proj_dir        = /Users/mcsieber/storage/notebooks/cml_help_example\n",
      "proj_data_dir   = /Volumes/ArielD/storage/data/cml_help_example\n",
      "models_dir      = /Volumes/ArielD/storage/data/cml_help_example/models\n",
      "name 'fastai' is not defined\n",
      "name 'torch' is not defined\n",
      "\n"
     ]
    }
   ],
   "source": [
    "# %load '../../lib/project_setup.py'\n",
    "### Project Setup for Jupyter Notebook - customize this after first load\n",
    "#\n",
    "# Uncomment these after initial load (if you want them)\n",
    "%reload_ext autoreload\n",
    "%autoreload 2\n",
    "%matplotlib inline\n",
    "%alias netron open -a /Applications/Netron.app\n",
    "\n",
    "#Project Setup - Names - used as prefixs for several derived names below\n",
    "project_name   = 'cml_help_example'  # \n",
    "model_name     = 'MobileNet'\n",
    "batch_size     = 32\n",
    "img_size       = 300\n",
    "\n",
    "### Uncomment and change if you want to change the defaults\n",
    "from ms_util import *\n",
    "from pathlib import Path\n",
    "local_root = Path('/Users/mcsieber/storage')  # On Paperspace would be just \"/storage\"\n",
    "data_root  = Path('/Volumes/ArielD/storage')  # On Paperspace would be just \"/storage\"\n",
    "user_lib   = local_root / 'lib'\n",
    "notebooks  = local_root / 'notebooks'\n",
    "\n",
    "### Run script to continue the setup ..\n",
    "#run -i {user_lib}/complete_setup.py --show [ Proj Paths Env All None ] # defaults to 'Proj'\n",
    "%run -i {user_lib}/finish_setup.py --show Proj"
   ]
  },
  {
   "cell_type": "markdown",
   "metadata": {},
   "source": [
    "Because we are not doing anything with Fastai in this notebook, it is ok that 'defaults', 'fastai' and 'torch' are not defined"
   ]
  },
  {
   "cell_type": "markdown",
   "metadata": {},
   "source": [
    "#### Specify the location of the model file"
   ]
  },
  {
   "cell_type": "code",
   "execution_count": 2,
   "metadata": {},
   "outputs": [
    {
     "data": {
      "text/plain": [
       "PosixPath('/Volumes/ArielD/storage/data/mlmodels/MobileNet/MobileNet.mlmodel')"
      ]
     },
     "execution_count": 2,
     "metadata": {},
     "output_type": "execute_result"
    }
   ],
   "source": [
    "mobilenet_dir  = data_root/'data/mlmodels/MobileNet'\n",
    "mobilenet_path = mobilenet_dir/'MobileNet.mlmodel'\n",
    "mobilenet_path"
   ]
  },
  {
   "cell_type": "code",
   "execution_count": 3,
   "metadata": {},
   "outputs": [],
   "source": [
    "import coremltools.models.model as cm\n",
    "import coremltools.models.utils as cu\n",
    "import coreml_help\n",
    "from coreml_help import *"
   ]
  },
  {
   "cell_type": "markdown",
   "metadata": {},
   "source": [
    "#### The browser object will get and save several values that are useful to keep around: \n",
    "- the protobuf spec, \n",
    "- the neural network object, \n",
    "- the array of neural network layers and its lenght\n",
    "- a dictionary mapping layer names to layer indexes\n",
    "- the shape inference object for the model"
   ]
  },
  {
   "cell_type": "code",
   "execution_count": 4,
   "metadata": {},
   "outputs": [
    {
     "name": "stdout",
     "output_type": "stream",
     "text": [
      "Using shape info from compilation output\n"
     ]
    }
   ],
   "source": [
    "mnb = CoremlBrowser(mobilenet_path)"
   ]
  },
  {
   "cell_type": "markdown",
   "metadata": {},
   "source": [
    "It also overrides the default repr so that something more useful than \"object\" is shown:"
   ]
  },
  {
   "cell_type": "code",
   "execution_count": 5,
   "metadata": {},
   "outputs": [
    {
     "name": "stdout",
     "output_type": "stream",
     "text": [
      "mlmodel_path      = /Volumes/ArielD/storage/data/mlmodels/MobileNet/MobileNet.mlmodel\n",
      "layer_count       = 111\n",
      "layer_shapes_count = 112\n",
      "layer_count       = input {\n",
      "  name: \"data\"\n",
      "  shortDescription: \"Input image to be classified\"\n",
      "  type {\n",
      "    imageType {\n",
      "      width: 224\n",
      "      height: 224\n",
      "      colorSpace: BGR\n",
      "    }\n",
      "  }\n",
      "}\n",
      "output {\n",
      "  name: \"prob\"\n",
      "  shortDescription: \"Probability of each category\"\n",
      "  type {\n",
      "    dictionaryType {\n",
      "      stringKeyType {\n",
      "      }\n",
      "    }\n",
      "  }\n",
      "}\n",
      "output {\n",
      "  name: \"classLabel\"\n",
      "  shortDescription: \"Most likely image category\"\n",
      "  type {\n",
      "    stringType {\n",
      "    }\n",
      "  }\n",
      "}\n",
      "predictedFeatureName: \"classLabel\"\n",
      "predictedProbabilitiesName: \"prob\"\n",
      "metadata {\n",
      "  shortDescription: \"The network from the paper \\'MobileNets: Efficient Convolutional Neural Networks for Mobile Vision Applications\\', trained on the ImageNet dataset.\"\n",
      "  author: \"Original paper: Andrew G. Howard, Menglong Zhu, Bo Chen, Dmitry Kalenichenko, Weijun Wang, Tobias Weyand, Marco Andreetto, Hartwig Adam. Caffe implementation: shicai\"\n",
      "  license: \"Unknown\"\n",
      "}\n",
      "\n"
     ]
    },
    {
     "data": {
      "text/plain": []
     },
     "execution_count": 5,
     "metadata": {},
     "output_type": "execute_result"
    }
   ],
   "source": [
    "mnb"
   ]
  },
  {
   "cell_type": "markdown",
   "metadata": {},
   "source": [
    "### Model Inspection\n",
    "* `show_nn` will show a slice of the layers.  \n",
    "*  e.g. `show_nn(mnb,8,2)` starts at layer 8 and shows 2 layers. `mnb.show_nn(8,2)` is  equivalent\n",
    "* `show_head` shows the first 3 layers.  It is a convenience routine for `mnb.show_nn(0,3)`\n",
    "* `show_tail` shows the last 3 layers.\n",
    "\n",
    "*(you will probably need to resize your browser to full width to show the lines well)*"
   ]
  },
  {
   "cell_type": "code",
   "execution_count": 6,
   "metadata": {},
   "outputs": [
    {
     "name": "stdout",
     "output_type": "stream",
     "text": [
      "Lay Name                     In/Out                          Type,Chan(s)/Shape   Size,Stride,Dilation,#Wts\n",
      "  0 conv1                    [data]                          conv     32x3       sz:3x3  str:2x2  dil:1x1  wc:864\n",
      "                             [conv1_1conv1/bn]                c h w:  32 112 112\n",
      "\n",
      "  1 conv1/bn                 [conv1_1conv1/bn]               bnorm    32         ep:1.000e-05  wc:64\n",
      "                             [conv1_2conv1/scale]             c h w:  32 112 112\n",
      "\n",
      "  2 conv1/scale              [conv1_2conv1/scale]                   - \n",
      "                             [conv1_3relu1]                   c h w:  32 112 112\n",
      "\n"
     ]
    }
   ],
   "source": [
    "show_head(mnb)"
   ]
  },
  {
   "cell_type": "code",
   "execution_count": 7,
   "metadata": {},
   "outputs": [
    {
     "name": "stdout",
     "output_type": "stream",
     "text": [
      "Lay Name                     In/Out                          Type,Chan(s)/Shape   Size,Stride,Dilation,#Wts\n",
      "  8 conv2_1/sep              [conv2_1/dw]                    conv     64x32      sz:1x1  str:1x1  dil:1x1  wc:2048\n",
      "                             [conv2_1/sep_9conv2_1/sep/bn]    c h w:  64 112 112\n",
      "\n",
      "  9 conv2_1/sep/bn           [conv2_1/sep_9conv2_1/sep/bn]   bnorm    64         ep:1.000e-05  wc:128\n",
      "                             [conv2_1/sep_10conv2_1/sep/sca   c h w:  64 112 112\n",
      "\n"
     ]
    }
   ],
   "source": [
    "show_nn(mnb,8,2)  # or mnb.show_nn(8,2) will show the same thing"
   ]
  },
  {
   "cell_type": "code",
   "execution_count": 8,
   "metadata": {},
   "outputs": [
    {
     "name": "stdout",
     "output_type": "stream",
     "text": [
      "Lay Name                     In/Out                          Type,Chan(s)/Shape   Size,Stride,Dilation,#Wts\n",
      "108 pool6                    [conv6/sep]                     pool                sz:0x0  str:1x1\n",
      "                             [pool6]                          c h w:  1024 1  1 \n",
      "\n",
      "109 fc7                      [pool6]                         conv     1000x1024  sz:1x1  str:1x1  dil:1x1  wc:1024000\n",
      "                             [fc7]                            c h w:  1000 1  1 \n",
      "\n",
      "110 prob                     [fc7]                                  - \n",
      "                             [prob]                           c h w:  1000 1  1 \n",
      "\n"
     ]
    }
   ],
   "source": [
    "show_tail(mnb)"
   ]
  },
  {
   "cell_type": "markdown",
   "metadata": {},
   "source": [
    "#### Netron\n",
    "\n",
    "The best way to view the whole model is to use Netron.  If you have it installed and are using MacOS, `%netron` is a \"magic command\" alias (see setup above) that will launch it for you"
   ]
  },
  {
   "cell_type": "code",
   "execution_count": 9,
   "metadata": {},
   "outputs": [],
   "source": [
    "%netron {mobilenet_path}"
   ]
  },
  {
   "cell_type": "markdown",
   "source": [
    "### Layer Access\n",
    "The method `get_layer` will retrieve a layer by number (index) or name."
   ],
   "metadata": {
    "collapsed": false
   }
  },
  {
   "cell_type": "code",
   "execution_count": null,
   "outputs": [],
   "source": [
    "# Get layer by name\n",
    "layer_pool6 = mnb.get_layer('pool6')\n",
    "# Get layer by name\n",
    "layer_10 = mnb.get_layer(10)"
   ],
   "metadata": {
    "collapsed": false,
    "pycharm": {
     "name": "#%%\n"
    }
   }
  },
  {
   "cell_type": "markdown",
   "metadata": {
    "scrolled": false
   },
   "source": [
    "### Model Surgery\n",
    "\n",
    "Let's connect layer **pool6** to layer **prob** jumping over layer **fc7**\n",
    "\n",
    "* `connect_layers` returns a named tuple recording what it just did. \n",
    "(Just in case you want to keep track, or later decide to undo it ...)\n",
    "* When we connect layers, the only data that is changed is the \"input\" for the \"to\" layer.\n",
    "\n",
    "The next three cells show \"before\", the connect operation, and \"after\""
   ]
  },
  {
   "cell_type": "code",
   "execution_count": 10,
   "metadata": {},
   "outputs": [
    {
     "name": "stdout",
     "output_type": "stream",
     "text": [
      "Lay Name                     In/Out                          Type,Chan(s)/Shape   Size,Stride,Dilation,#Wts\n",
      "108 pool6                    [conv6/sep]                     pool                sz:0x0  str:1x1\n",
      "                             [pool6]                          c h w:  1024 1  1 \n",
      "\n",
      "109 fc7                      [pool6]                         conv     1000x1024  sz:1x1  str:1x1  dil:1x1  wc:1024000\n",
      "                             [fc7]                            c h w:  1000 1  1 \n",
      "\n",
      "110 prob                     [fc7]                                  - \n",
      "                             [prob]                           c h w:  1000 1  1 \n",
      "\n"
     ]
    }
   ],
   "source": [
    "show_tail(mnb)"
   ]
  },
  {
   "cell_type": "code",
   "execution_count": 11,
   "metadata": {},
   "outputs": [
    {
     "data": {
      "text/plain": [
       "layer_audit(changed_layer='prob', input_before=['fc7'], input_after=['pool6'], error=None)"
      ]
     },
     "execution_count": 11,
     "metadata": {},
     "output_type": "execute_result"
    }
   ],
   "source": [
    "mnb.connect_layers(from_='pool6', to_='prob')"
   ]
  },
  {
   "cell_type": "code",
   "execution_count": 12,
   "metadata": {},
   "outputs": [
    {
     "name": "stdout",
     "output_type": "stream",
     "text": [
      "Lay Name                     In/Out                          Type,Chan(s)/Shape   Size,Stride,Dilation,#Wts\n",
      "108 pool6                    [conv6/sep]                     pool                sz:0x0  str:1x1\n",
      "                             [pool6]                          c h w:  1024 1  1 \n",
      "\n",
      "109 fc7                      [pool6]                         conv     1000x1024  sz:1x1  str:1x1  dil:1x1  wc:1024000\n",
      "                             [fc7]                            c h w:  1000 1  1 \n",
      "\n",
      "110 prob                     [pool6]                                - \n",
      "                             [prob]                           c h w:  1000 1  1 \n",
      "\n"
     ]
    }
   ],
   "source": [
    "show_tail(mnb)"
   ]
  },
  {
   "cell_type": "markdown",
   "metadata": {},
   "source": [
    "In the layers above, you can see that layer **prob** now gets input from the output of layer **pool6**.  Layer **fc7** has been isolated - tho it is still receiving input from **pool6**, there is now no layer that takes its output.\n",
    "\n",
    "So lets delete **fc7** . (You can delete multiple layers at once, if you wish.) \n",
    "Again, the method returns a record of the change.  "
   ]
  },
  {
   "cell_type": "code",
   "execution_count": 13,
   "metadata": {},
   "outputs": [
    {
     "data": {
      "text/plain": [
       "[{'deleted_layer': 'fc7', 'input': ['pool6'], 'output': ['fc7']}]"
      ]
     },
     "execution_count": 13,
     "metadata": {},
     "output_type": "execute_result"
    }
   ],
   "source": [
    "mnb.delete_layers(['fc7'])"
   ]
  },
  {
   "cell_type": "markdown",
   "metadata": {},
   "source": [
    "Layer **fc7** is now gone ..."
   ]
  },
  {
   "cell_type": "code",
   "execution_count": 14,
   "metadata": {},
   "outputs": [
    {
     "name": "stdout",
     "output_type": "stream",
     "text": [
      "Lay Name                     In/Out                          Type,Chan(s)/Shape   Size,Stride,Dilation,#Wts\n",
      "107 relu6/sep                [conv6/sep_107relu6/sep]        ReLU     \n",
      "                             [conv6/sep]                      c h w:  1024 7  7 \n",
      "\n",
      "108 pool6                    [conv6/sep]                     pool                sz:0x0  str:1x1\n",
      "                             [pool6]                          c h w:  1024 1  1 \n",
      "\n",
      "109 prob                     [pool6]                                - \n",
      "                             [prob]                           c h w:  1000 1  1 \n",
      "\n"
     ]
    }
   ],
   "source": [
    "show_tail(mnb)"
   ]
  },
  {
   "cell_type": "markdown",
   "source": [
    "To recompile (and save) the model after surgery ..."
   ],
   "metadata": {
    "collapsed": false
   }
  },
  {
   "cell_type": "code",
   "execution_count": null,
   "outputs": [],
   "source": [
    "mnet_mlmodel = mnb.compile_spec()  # equivalent to mnet_mlmodel = MLModel(mnb.spec)"
   ],
   "metadata": {
    "collapsed": false,
    "pycharm": {
     "name": "#%%\n"
    }
   }
  },
  {
   "cell_type": "markdown",
   "metadata": {},
   "source": [
    "###  Surgery Errors\n",
    "\n",
    "* For `connect_layers`, if the either of the names is invalid, the operation is aborted\n",
    "* For `delete_layers`  invalid names are skipped and silently ignored"
   ]
  },
  {
   "cell_type": "code",
   "execution_count": 15,
   "metadata": {},
   "outputs": [
    {
     "data": {
      "text/plain": [
       "layer_audit(changed_layer='NONE', input_before=None, input_after=None, error=\"Layer(s) [['pool28', 'xyzzy']] not found\")"
      ]
     },
     "execution_count": 15,
     "metadata": {},
     "output_type": "execute_result"
    }
   ],
   "source": [
    "mnb.connect_layers(from_='pool28', to_='xyzzy')"
   ]
  },
  {
   "cell_type": "code",
   "execution_count": 16,
   "metadata": {
    "pycharm": {
     "name": "#%%\n"
    }
   },
   "outputs": [
    {
     "data": {
      "text/plain": [
       "[{'deleted_layer': 'pool6', 'input': ['conv6/sep'], 'output': ['pool6']},\n",
       " {'deleted_layer': 'relu6/sep', 'input': ['conv6/sep_107relu6/sep'], 'output': ['conv6/sep']}]"
      ]
     },
     "execution_count": 16,
     "metadata": {},
     "output_type": "execute_result"
    }
   ],
   "source": [
    "mnb.delete_layers(['pool6','relu6/sep','pool28','xyzzy'])\n",
    "\n"
   ]
  }
 ],
 "metadata": {
  "kernelspec": {
   "display_name": "Python 3",
   "language": "python",
   "name": "python3"
  },
  "language_info": {
   "codemirror_mode": {
    "name": "ipython",
    "version": 3
   },
   "file_extension": ".py",
   "mimetype": "text/x-python",
   "name": "python",
   "nbconvert_exporter": "python",
   "pygments_lexer": "ipython3",
   "version": "3.6.7"
  },
  "pycharm": {
   "stem_cell": {
    "cell_type": "raw",
    "source": [],
    "metadata": {
     "collapsed": false
    }
   }
  }
 },
 "nbformat": 4,
 "nbformat_minor": 2
}