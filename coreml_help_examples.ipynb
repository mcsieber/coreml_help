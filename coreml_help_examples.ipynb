{
 "cells": [
  {
   "cell_type": "markdown",
   "metadata": {},
   "source": [
    "# coreml_help - examples of use\n",
    "\n",
    "This notebook shows examples of helper functions to facilitate working with\n",
    "CoreML and ONNX and converting from one to the other.\n",
    "\n",
    "I wrote these as a learning exercise. Feedback welcome.\n",
    "Most of this is based on the work of others,  but there can be no question that any\n",
    "bugs, errors, misstatements, and, especially, inept code constructs, are entirely mine.\n",
    "\n",
    ">If you want **real** help with CoreML, I highly recommend **Matthijs Holleman's**\n",
    " *“Core ML Survival Guide.”*. Informative and well-written.\n",
    " Easy to read, as much as books on this subject can be.\n",
    "  "
   ]
  },
  {
   "cell_type": "markdown",
   "metadata": {},
   "source": [
    "**The next cell** is setup for what follows. You can ignore it if you wish"
   ]
  },
  {
   "cell_type": "code",
   "execution_count": 1,
   "metadata": {
    "pycharm": {
     "is_executing": false
    }
   },
   "outputs": [
    {
     "name": "stderr",
     "text": [
      "ERROR:root:File `'/Users/mcsieber/storage/lib/complete_setup.py'` not found.\n"
     ],
     "output_type": "stream"
    }
   ],
   "source": [
    "# %load '../../lib/project_setup.py'\n",
    "### Project Setup for Jupyter Notebook - customize this after first load\n",
    "#\n",
    "# Uncomment these after initial load (if you want them)\n",
    "%reload_ext autoreload\n",
    "%autoreload 2\n",
    "%matplotlib inline\n",
    "%alias netron open -a /Applications/Netron.app\n",
    "\n",
    "#Project Setup - Names - used as prefixs for several derived names below\n",
    "project_name   = 'cml_help_example'  # \n",
    "model_name     = 'MobileNet'\n",
    "\n",
    "### Uncomment and change if you want to change the defaults\n",
    "from pathlib import Path\n",
    "local_root = Path('/Users/mcsieber/storage')  # On Paperspace would be just \"/storage\"\n",
    "data_root  = Path('/Volumes/ArielD/storage')  # On Paperspace would be just \"/storage\"\n",
    "user_lib   = local_root / 'lib'\n",
    "notebooks  = local_root / 'notebooks'\n",
    "\n",
    "### Run script to continue the setup ..\n",
    "#run -i {user_lib}/complete_setup.py --show [ Proj Paths Env All None ] # defaults to 'Proj'\n",
    "%run -i {user_lib}/complete_setup.py --show Proj"
   ]
  },
  {
   "cell_type": "markdown",
   "metadata": {},
   "source": [
    "#### Specify the location of the model file"
   ]
  },
  {
   "cell_type": "code",
   "execution_count": 2,
   "metadata": {
    "pycharm": {
     "is_executing": false
    }
   },
   "outputs": [
    {
     "data": {
      "text/plain": "PosixPath('/Volumes/ArielD/storage/data/mlmodels/MobileNet/MobileNet.mlmodel')"
     },
     "metadata": {},
     "output_type": "execute_result",
     "execution_count": 2
    }
   ],
   "source": [
    "data_dir = data_root/'data'\n",
    "mobilenet_dir  = data_dir/'mlmodels/MobileNet'\n",
    "mobilenet_path = mobilenet_dir/'MobileNet.mlmodel'\n",
    "mobilenet_path"
   ]
  },
  {
   "cell_type": "code",
   "execution_count": 3,
   "metadata": {
    "pycharm": {
     "is_executing": false
    }
   },
   "outputs": [],
   "source": [
    "import coremltools.models.model as cm\n",
    "import coremltools.models.utils as cu\n",
    "import coreml_help\n",
    "from coreml_help import *"
   ]
  },
  {
   "cell_type": "markdown",
   "metadata": {},
   "source": [
    "#### The browser object will get and save several values that are useful to keep around: \n",
    "- the protobuf spec, \n",
    "- the neural network object, \n",
    "- the array of neural network layers and its lenght\n",
    "- a dictionary mapping layer names to layer indexes\n",
    "- the shape inference object for the model"
   ]
  },
  {
   "cell_type": "code",
   "execution_count": 4,
   "metadata": {
    "pycharm": {
     "is_executing": false
    }
   },
   "outputs": [],
   "source": [
    "mnb = CoremlBrowser(mobilenet_path)"
   ]
  },
  {
   "cell_type": "markdown",
   "metadata": {},
   "source": [
    "It also overrides the default repr so that something more useful than \"object\" is shown:"
   ]
  },
  {
   "cell_type": "code",
   "execution_count": 5,
   "metadata": {
    "pycharm": {
     "is_executing": false
    }
   },
   "outputs": [
    {
     "name": "stdout",
     "text": [
      "mlmodel_path      = /Volumes/ArielD/storage/data/mlmodels/MobileNet/MobileNet.mlmodel\nlayer_count       = 111\nspec.description  = input {\n  name: \"data\"\n  shortDescription: \"Input image to be classified\"\n  type {\n    imageType {\n      width: 224\n      height: 224\n      colorSpace: BGR\n    }\n  }\n}\noutput {\n  name: \"prob\"\n  shortDescription: \"Probability of each category\"\n  type {\n    dictionaryType {\n      stringKeyType {\n      }\n    }\n  }\n}\noutput {\n  name: \"classLabel\"\n  shortDescription: \"Most likely image category\"\n  type {\n    stringType {\n    }\n  }\n}\npredictedFeatureName: \"classLabel\"\npredictedProbabilitiesName: \"prob\"\nmetadata {\n  shortDescription: \"The network from the paper \\'MobileNets: Efficient Convolutional Neural Networks for Mobile Vision Applications\\', trained on the ImageNet dataset.\"\n  author: \"Original paper: Andrew G. Howard, Menglong Zhu, Bo Chen, Dmitry Kalenichenko, Weijun Wang, Tobias Weyand, Marco Andreetto, Hartwig Adam. Caffe implementation: shicai\"\n  license: \"Unknown\"\n}\n\n"
     ],
     "output_type": "stream"
    },
    {
     "data": {
      "text/plain": ""
     },
     "metadata": {},
     "output_type": "execute_result",
     "execution_count": 5
    }
   ],
   "source": [
    "mnb"
   ]
  },
  {
   "cell_type": "markdown",
   "metadata": {},
   "source": [
    "### Model Inspection\n",
    "* `show_nn` will show a slice of the layers.  \n",
    "*  e.g. `show_nn(mnb,8,2)` starts at layer 8 and shows 2 layers. `mnb.show_nn(8,2)` is  equivalent\n",
    "* `show_head` shows the first 3 layers.  It is a convenience routine for `mnb.show_nn(0,3)`\n",
    "* `show_tail` shows the last 3 layers.\n",
    "\n",
    "*(you will probably need to resize your browser to full width to show the lines well)*"
   ]
  },
  {
   "cell_type": "code",
   "execution_count": 6,
   "metadata": {
    "pycharm": {
     "is_executing": false
    }
   },
   "outputs": [
    {
     "name": "stdout",
     "text": [
      "Lay Name                    In/Out                              Type,Chan(s)       Size,Stride,Dilation,#Wts\n  0 conv1                    [data]                          conv   32x3          sz:3x3  str:2x2  dil:1x1  wc:864\n                             [conv1_1conv1/bn]               CHW:  (32, 32) (112, 112) (112, 112)   SB:(0, -1)(0, -1)\n\n  1 conv1/bn                 [conv1_1conv1/bn]               bnorm  32            ep:1.000e-05  wc:64\n                             [conv1_2conv1/scale]             - no shapes: map::at:  key not found - \n\n  2 conv1/scale              [conv1_2conv1/scale]                          - \n                             [conv1_3relu1]                   - no shapes: map::at:  key not found - \n\n"
     ],
     "output_type": "stream"
    }
   ],
   "source": [
    "show_head(mnb)"
   ]
  },
  {
   "cell_type": "code",
   "execution_count": 7,
   "metadata": {},
   "outputs": [
    {
     "name": "stdout",
     "output_type": "stream",
     "text": [
      "Lay Name                                In/Out                        Type,Chan(s)       Size,Stride,Dilation,#Wts\n",
      "  8 conv2_1/sep                      [conv2_1/dw]              conv   64x32     sz:1x1  str:1x1  dil:1x1  wc:2048\n",
      "                                     [conv2_1/sep_9conv2_1/sep/bn]  CHW: (64, 64) (112, 112) (112, 112)   SB:(0, -1)(0, -1)\n",
      "\n",
      "  9 conv2_1/sep/bn                   [conv2_1/sep_9conv2_1/sep/bn]  bnorm  64        ep:1.000e-05  wc:128\n",
      "                                     [conv2_1/sep_10conv2_1/sep/scale]        - map::at:  key not found - \n",
      "\n"
     ]
    }
   ],
   "source": [
    "show_nn(mnb,8,2)  # or mnb.show_nn(8,2) will show the same thing"
   ]
  },
  {
   "cell_type": "code",
   "execution_count": 8,
   "metadata": {},
   "outputs": [
    {
     "name": "stdout",
     "output_type": "stream",
     "text": [
      "Lay Name                                In/Out                        Type,Chan(s)       Size,Stride,Dilation,#Wts\n",
      "108 pool6                            [conv6/sep]               pool             sz:0x0  str:1x1\n",
      "                                     [pool6]                   CHW: (1024, 1024) (1, 1) (1, 1)   SB:(0, -1)(0, -1)\n",
      "\n",
      "109 fc7                              [pool6]                   conv   1000x1024 sz:1x1  str:1x1  dil:1x1  wc:1024000\n",
      "                                     [fc7]                     CHW: (1000, 1000) (1, 1) (1, 1)   SB:(0, -1)(0, -1)\n",
      "\n",
      "110 prob                             [fc7]                                   - \n",
      "                                     [prob]                    CHW: (1000, 1000) (1, 1) (1, 1)   SB:(0, -1)(0, -1)\n",
      "\n"
     ]
    }
   ],
   "source": [
    "show_tail(mnb)"
   ]
  },
  {
   "cell_type": "markdown",
   "metadata": {},
   "source": [
    "#### Netron\n",
    "\n",
    "The best way to view the whole model is to use Netron.  If you have it installed and are using MacOS, `%netron` is a \"magic command\" alias (see setup above) that will launch it for you"
   ]
  },
  {
   "cell_type": "code",
   "execution_count": null,
   "metadata": {},
   "outputs": [],
   "source": [
    "%netron {mobilenet_path}"
   ]
  },
  {
   "cell_type": "markdown",
   "metadata": {
    "scrolled": false
   },
   "source": [
    "### Model Surgery\n",
    "\n",
    "Let's connect layer **pool6** to layer **prob** jumping over layer **fc7**\n",
    "\n",
    "* `connect_layers` returns a named tuple recording what it just did. \n",
    "(Just in case you want to keep track, or later decide to undo it ...)\n",
    "* When we connect layers, the only data that is changed is the \"input\" for the \"to\" layer.\n",
    "\n",
    "The next three cells show \"before\", the connect operation, and \"after\""
   ]
  },
  {
   "cell_type": "code",
   "execution_count": 9,
   "metadata": {},
   "outputs": [
    {
     "name": "stdout",
     "output_type": "stream",
     "text": [
      "Lay Name                                In/Out                        Type,Chan(s)       Size,Stride,Dilation,#Wts\n",
      "108 pool6                            [conv6/sep]               pool             sz:0x0  str:1x1\n",
      "                                     [pool6]                   CHW: (1024, 1024) (1, 1) (1, 1)   SB:(0, -1)(0, -1)\n",
      "\n",
      "109 fc7                              [pool6]                   conv   1000x1024 sz:1x1  str:1x1  dil:1x1  wc:1024000\n",
      "                                     [fc7]                     CHW: (1000, 1000) (1, 1) (1, 1)   SB:(0, -1)(0, -1)\n",
      "\n",
      "110 prob                             [fc7]                                   - \n",
      "                                     [prob]                    CHW: (1000, 1000) (1, 1) (1, 1)   SB:(0, -1)(0, -1)\n",
      "\n"
     ]
    }
   ],
   "source": [
    "show_tail(mnb)"
   ]
  },
  {
   "cell_type": "code",
   "execution_count": 10,
   "metadata": {},
   "outputs": [
    {
     "data": {
      "text/plain": [
       "layer_audit(changed_layer='prob', input_before=['fc7'], input_after=['pool6'], error=None)"
      ]
     },
     "execution_count": 10,
     "metadata": {},
     "output_type": "execute_result"
    }
   ],
   "source": [
    "mnb.connect_layers(from_='pool6', to_='prob')"
   ]
  },
  {
   "cell_type": "code",
   "execution_count": 11,
   "metadata": {},
   "outputs": [
    {
     "name": "stdout",
     "output_type": "stream",
     "text": [
      "Lay Name                                In/Out                        Type,Chan(s)       Size,Stride,Dilation,#Wts\n",
      "108 pool6                            [conv6/sep]               pool             sz:0x0  str:1x1\n",
      "                                     [pool6]                   CHW: (1024, 1024) (1, 1) (1, 1)   SB:(0, -1)(0, -1)\n",
      "\n",
      "109 fc7                              [pool6]                   conv   1000x1024 sz:1x1  str:1x1  dil:1x1  wc:1024000\n",
      "                                     [fc7]                     CHW: (1000, 1000) (1, 1) (1, 1)   SB:(0, -1)(0, -1)\n",
      "\n",
      "110 prob                             [pool6]                                 - \n",
      "                                     [prob]                    CHW: (1000, 1000) (1, 1) (1, 1)   SB:(0, -1)(0, -1)\n",
      "\n"
     ]
    }
   ],
   "source": [
    "show_tail(mnb)"
   ]
  },
  {
   "cell_type": "markdown",
   "metadata": {},
   "source": [
    "In the layers above, you can see that layer **prob** now gets input from the output of layer **pool6**.  Layer **fc7** has been isolated - tho it is still receiving input from **pool6**, there is now no layer that takes its output.\n",
    "\n",
    "So lets delete **fc7** . (You can delete multiple layers at once, if you wish.) \n",
    "Again, the method returns a record of the change.  "
   ]
  },
  {
   "cell_type": "code",
   "execution_count": 12,
   "metadata": {},
   "outputs": [
    {
     "data": {
      "text/plain": [
       "[{'deleted_layer': 'fc7', 'input': ['pool6'], 'output': ['fc7']}]"
      ]
     },
     "execution_count": 12,
     "metadata": {},
     "output_type": "execute_result"
    }
   ],
   "source": [
    "mnb.delete_layers(['fc7'])"
   ]
  },
  {
   "cell_type": "markdown",
   "metadata": {},
   "source": [
    "Layer **fc7** is now gone ..."
   ]
  },
  {
   "cell_type": "code",
   "execution_count": 13,
   "metadata": {},
   "outputs": [
    {
     "name": "stdout",
     "output_type": "stream",
     "text": [
      "Lay Name                                In/Out                        Type,Chan(s)       Size,Stride,Dilation,#Wts\n",
      "107 relu6/sep                        [conv6/sep_107relu6/sep]  ReLU    \n",
      "                                     [conv6/sep]                     - map::at:  key not found - \n",
      "\n",
      "108 pool6                            [conv6/sep]               pool             sz:0x0  str:1x1\n",
      "                                     [pool6]                   CHW: (1024, 1024) (1, 1) (1, 1)   SB:(0, -1)(0, -1)\n",
      "\n",
      "109 prob                             [pool6]                                 - \n",
      "                                     [prob]                    CHW: (1000, 1000) (1, 1) (1, 1)   SB:(0, -1)(0, -1)\n",
      "\n"
     ]
    }
   ],
   "source": [
    "show_tail(mnb)"
   ]
  },
  {
   "cell_type": "markdown",
   "metadata": {},
   "source": [
    "#  Surgery Errors\n",
    "\n",
    "* For `connect_layers`, if the either of the names is invalid, the operation is aborted\n",
    "* For `delete_layers`  invalid names are skipped and silently ignored"
   ]
  },
  {
   "cell_type": "code",
   "execution_count": 14,
   "metadata": {},
   "outputs": [
    {
     "data": {
      "text/plain": [
       "layer_audit(changed_layer='NONE', input_before=None, input_after=None, error=\"Layer(s) [['pool28', 'xyzzy']] not found\")"
      ]
     },
     "execution_count": 14,
     "metadata": {},
     "output_type": "execute_result"
    }
   ],
   "source": [
    "mnb.connect_layers(from_='pool28', to_='xyzzy')"
   ]
  },
  {
   "cell_type": "code",
   "execution_count": 15,
   "metadata": {},
   "outputs": [
    {
     "data": {
      "text/plain": [
       "[{'deleted_layer': 'pool6', 'input': ['conv6/sep'], 'output': ['pool6']},\n",
       " {'deleted_layer': 'relu6/sep', 'input': ['conv6/sep_107relu6/sep'], 'output': ['conv6/sep']}]"
      ]
     },
     "execution_count": 15,
     "metadata": {},
     "output_type": "execute_result"
    }
   ],
   "source": [
    "mnb.delete_layers(['pool6','relu6/sep','pool28','xyzzy'])"
   ]
  },
  {
   "cell_type": "code",
   "execution_count": null,
   "metadata": {},
   "outputs": [],
   "source": []
  }
 ],
 "metadata": {
  "kernelspec": {
   "name": "pycharm-24052b12",
   "language": "python",
   "display_name": "PyCharm (coreml_help)"
  },
  "language_info": {
   "codemirror_mode": {
    "name": "ipython",
    "version": 3
   },
   "file_extension": ".py",
   "mimetype": "text/x-python",
   "name": "python",
   "nbconvert_exporter": "python",
   "pygments_lexer": "ipython3",
   "version": "3.6.7"
  },
  "pycharm": {
   "stem_cell": {
    "cell_type": "raw",
    "source": [],
    "metadata": {
     "collapsed": false
    }
   }
  }
 },
 "nbformat": 4,
 "nbformat_minor": 2
}